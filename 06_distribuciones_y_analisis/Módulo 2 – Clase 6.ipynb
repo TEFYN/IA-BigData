{
 "cells": [
  {
   "cell_type": "markdown",
   "id": "e81b3a60",
   "metadata": {},
   "source": [
    "# 📘 Clase 6 - Distribuciones y Detección de Outliers con Seaborn\n",
    "\n",
    "## 🧾 Dataset\n",
    "\n",
    "Trabajaremos con un conjunto de datos de una aseguradora que contiene información sobre clientes, sus características personales, tipos de pólizas y montos reclamados.\n",
    "\n",
    "### 📋 Campos destacados:\n",
    "- **CustomerLifetimeValue**: Valor estimado del cliente para la empresa.\n",
    "- **ClaimAmount**: Monto reclamado por el cliente.\n",
    "- **Coverage**: Tipo de cobertura contratada.\n",
    "- **PolicyType** y **Policy**: Detalles del tipo de póliza.\n",
    "- **VehicleClass** y **VehicleSize**: Tipo y tamaño del vehículo asegurado.\n",
    "- **EmploymentStatus**, **Education**, **Gender**, etc.: Información demográfica.\n",
    "\n",
    "Este dataset será usado para analizar distribuciones, detectar valores atípicos (outliers) y aplicar conceptos como asimetría y curtosis.\n",
    "\n",
    "---\n"
   ]
  },
  {
   "cell_type": "code",
   "execution_count": 2,
   "id": "4789650d",
   "metadata": {},
   "outputs": [
    {
     "data": {
      "text/html": [
       "<div>\n",
       "<style scoped>\n",
       "    .dataframe tbody tr th:only-of-type {\n",
       "        vertical-align: middle;\n",
       "    }\n",
       "\n",
       "    .dataframe tbody tr th {\n",
       "        vertical-align: top;\n",
       "    }\n",
       "\n",
       "    .dataframe thead th {\n",
       "        text-align: right;\n",
       "    }\n",
       "</style>\n",
       "<table border=\"1\" class=\"dataframe\">\n",
       "  <thead>\n",
       "    <tr style=\"text-align: right;\">\n",
       "      <th></th>\n",
       "      <th>Unnamed: 0</th>\n",
       "      <th>Customer</th>\n",
       "      <th>State</th>\n",
       "      <th>CustomerLifetimeValue</th>\n",
       "      <th>Response</th>\n",
       "      <th>Coverage</th>\n",
       "      <th>Education</th>\n",
       "      <th>EffectiveToDate</th>\n",
       "      <th>EmploymentStatus</th>\n",
       "      <th>Gender</th>\n",
       "      <th>...</th>\n",
       "      <th>MonthsSincePolicyInception</th>\n",
       "      <th>NumberofOpenComplaints</th>\n",
       "      <th>NumberofPolicies</th>\n",
       "      <th>PolicyType</th>\n",
       "      <th>Policy</th>\n",
       "      <th>RenewOfferType</th>\n",
       "      <th>SalesChannel</th>\n",
       "      <th>ClaimAmount</th>\n",
       "      <th>VehicleClass</th>\n",
       "      <th>VehicleSize</th>\n",
       "    </tr>\n",
       "  </thead>\n",
       "  <tbody>\n",
       "    <tr>\n",
       "      <th>0</th>\n",
       "      <td>0</td>\n",
       "      <td>BU79786</td>\n",
       "      <td>Washington</td>\n",
       "      <td>2763.519279</td>\n",
       "      <td>No</td>\n",
       "      <td>Basic</td>\n",
       "      <td>Bachelor</td>\n",
       "      <td>2/24/11</td>\n",
       "      <td>Employed</td>\n",
       "      <td>F</td>\n",
       "      <td>...</td>\n",
       "      <td>5</td>\n",
       "      <td>0</td>\n",
       "      <td>1</td>\n",
       "      <td>Corporate Auto</td>\n",
       "      <td>Corporate L3</td>\n",
       "      <td>Offer1</td>\n",
       "      <td>Agent</td>\n",
       "      <td>384.811147</td>\n",
       "      <td>Two-Door Car</td>\n",
       "      <td>Medsize</td>\n",
       "    </tr>\n",
       "    <tr>\n",
       "      <th>1</th>\n",
       "      <td>1</td>\n",
       "      <td>QZ44356</td>\n",
       "      <td>Arizona</td>\n",
       "      <td>6979.535903</td>\n",
       "      <td>No</td>\n",
       "      <td>Extended</td>\n",
       "      <td>Bachelor</td>\n",
       "      <td>1/31/11</td>\n",
       "      <td>Unemployed</td>\n",
       "      <td>F</td>\n",
       "      <td>...</td>\n",
       "      <td>42</td>\n",
       "      <td>0</td>\n",
       "      <td>8</td>\n",
       "      <td>Personal Auto</td>\n",
       "      <td>Personal L3</td>\n",
       "      <td>Offer3</td>\n",
       "      <td>Agent</td>\n",
       "      <td>1131.464935</td>\n",
       "      <td>Four-Door Car</td>\n",
       "      <td>Medsize</td>\n",
       "    </tr>\n",
       "    <tr>\n",
       "      <th>2</th>\n",
       "      <td>2</td>\n",
       "      <td>AI49188</td>\n",
       "      <td>Nevada</td>\n",
       "      <td>12887.431650</td>\n",
       "      <td>No</td>\n",
       "      <td>Premium</td>\n",
       "      <td>Bachelor</td>\n",
       "      <td>2/19/11</td>\n",
       "      <td>Employed</td>\n",
       "      <td>F</td>\n",
       "      <td>...</td>\n",
       "      <td>38</td>\n",
       "      <td>0</td>\n",
       "      <td>2</td>\n",
       "      <td>Personal Auto</td>\n",
       "      <td>Personal L3</td>\n",
       "      <td>Offer1</td>\n",
       "      <td>Agent</td>\n",
       "      <td>566.472247</td>\n",
       "      <td>Two-Door Car</td>\n",
       "      <td>Medsize</td>\n",
       "    </tr>\n",
       "    <tr>\n",
       "      <th>3</th>\n",
       "      <td>3</td>\n",
       "      <td>WW63253</td>\n",
       "      <td>California</td>\n",
       "      <td>7645.861827</td>\n",
       "      <td>No</td>\n",
       "      <td>Basic</td>\n",
       "      <td>Bachelor</td>\n",
       "      <td>1/20/11</td>\n",
       "      <td>Unemployed</td>\n",
       "      <td>M</td>\n",
       "      <td>...</td>\n",
       "      <td>65</td>\n",
       "      <td>0</td>\n",
       "      <td>7</td>\n",
       "      <td>Corporate Auto</td>\n",
       "      <td>Corporate L2</td>\n",
       "      <td>Offer1</td>\n",
       "      <td>Call Center</td>\n",
       "      <td>529.881344</td>\n",
       "      <td>SUV</td>\n",
       "      <td>Medsize</td>\n",
       "    </tr>\n",
       "    <tr>\n",
       "      <th>4</th>\n",
       "      <td>4</td>\n",
       "      <td>HB64268</td>\n",
       "      <td>Washington</td>\n",
       "      <td>2813.692575</td>\n",
       "      <td>No</td>\n",
       "      <td>Basic</td>\n",
       "      <td>Bachelor</td>\n",
       "      <td>2/3/11</td>\n",
       "      <td>Employed</td>\n",
       "      <td>M</td>\n",
       "      <td>...</td>\n",
       "      <td>44</td>\n",
       "      <td>0</td>\n",
       "      <td>1</td>\n",
       "      <td>Personal Auto</td>\n",
       "      <td>Personal L1</td>\n",
       "      <td>Offer1</td>\n",
       "      <td>Agent</td>\n",
       "      <td>138.130879</td>\n",
       "      <td>Four-Door Car</td>\n",
       "      <td>Medsize</td>\n",
       "    </tr>\n",
       "  </tbody>\n",
       "</table>\n",
       "<p>5 rows × 25 columns</p>\n",
       "</div>"
      ],
      "text/plain": [
       "   Unnamed: 0 Customer       State  CustomerLifetimeValue Response  Coverage  \\\n",
       "0           0  BU79786  Washington            2763.519279       No     Basic   \n",
       "1           1  QZ44356     Arizona            6979.535903       No  Extended   \n",
       "2           2  AI49188      Nevada           12887.431650       No   Premium   \n",
       "3           3  WW63253  California            7645.861827       No     Basic   \n",
       "4           4  HB64268  Washington            2813.692575       No     Basic   \n",
       "\n",
       "  Education EffectiveToDate EmploymentStatus Gender  ...  \\\n",
       "0  Bachelor         2/24/11         Employed      F  ...   \n",
       "1  Bachelor         1/31/11       Unemployed      F  ...   \n",
       "2  Bachelor         2/19/11         Employed      F  ...   \n",
       "3  Bachelor         1/20/11       Unemployed      M  ...   \n",
       "4  Bachelor          2/3/11         Employed      M  ...   \n",
       "\n",
       "   MonthsSincePolicyInception NumberofOpenComplaints NumberofPolicies  \\\n",
       "0                           5                      0                1   \n",
       "1                          42                      0                8   \n",
       "2                          38                      0                2   \n",
       "3                          65                      0                7   \n",
       "4                          44                      0                1   \n",
       "\n",
       "       PolicyType        Policy  RenewOfferType  SalesChannel  ClaimAmount  \\\n",
       "0  Corporate Auto  Corporate L3          Offer1         Agent   384.811147   \n",
       "1   Personal Auto   Personal L3          Offer3         Agent  1131.464935   \n",
       "2   Personal Auto   Personal L3          Offer1         Agent   566.472247   \n",
       "3  Corporate Auto  Corporate L2          Offer1   Call Center   529.881344   \n",
       "4   Personal Auto   Personal L1          Offer1         Agent   138.130879   \n",
       "\n",
       "    VehicleClass VehicleSize  \n",
       "0   Two-Door Car     Medsize  \n",
       "1  Four-Door Car     Medsize  \n",
       "2   Two-Door Car     Medsize  \n",
       "3            SUV     Medsize  \n",
       "4  Four-Door Car     Medsize  \n",
       "\n",
       "[5 rows x 25 columns]"
      ]
     },
     "execution_count": 2,
     "metadata": {},
     "output_type": "execute_result"
    }
   ],
   "source": [
    "import pandas as pd\n",
    "import seaborn as sns\n",
    "import matplotlib.pyplot as plt\n",
    "import numpy as np\n",
    "from scipy.stats import zscore, skew, kurtosis\n",
    "\n",
    "# Cargar datos\n",
    "df = pd.read_csv(\"customer.csv\")\n",
    "\n",
    "# Vista previa\n",
    "df.head()\n"
   ]
  },
  {
   "cell_type": "markdown",
   "id": "e09d7d82",
   "metadata": {},
   "source": [
    "### 📊 Ejercicio 1: Histograma y Curva de Densidad"
   ]
  },
  {
   "cell_type": "code",
   "execution_count": null,
   "id": "421e1e13",
   "metadata": {},
   "outputs": [],
   "source": [
    "sns.histplot(df[\"CustomerLifetimeValue\"], kde=True)\n",
    "plt.title(\"Distribución del Customer Lifetime Value\")\n",
    "plt.show()\n"
   ]
  },
  {
   "cell_type": "markdown",
   "id": "b674f6e4",
   "metadata": {},
   "source": [
    "### 📦 Ejercicio 2: Detección de Outliers con Boxplot"
   ]
  },
  {
   "cell_type": "code",
   "execution_count": null,
   "id": "e4463f4c",
   "metadata": {},
   "outputs": [],
   "source": [
    "sns.boxplot(x=df[\"ClaimAmount\"])\n",
    "plt.title(\"Boxplot del Claim Amount\")\n",
    "plt.show()\n"
   ]
  },
  {
   "cell_type": "markdown",
   "id": "56f48ec1",
   "metadata": {},
   "source": [
    "### 🧮 Ejercicio 3: Detección de Outliers con IQR"
   ]
  },
  {
   "cell_type": "code",
   "execution_count": null,
   "id": "c0de8dd8",
   "metadata": {},
   "outputs": [],
   "source": [
    "Q1 = df[\"CustomerLifetimeValue\"].quantile(0.25)\n",
    "Q3 = df[\"CustomerLifetimeValue\"].quantile(0.75)\n",
    "IQR = Q3 - Q1\n",
    "\n",
    "outliers_iqr = df[(df[\"CustomerLifetimeValue\"] < Q1 - 1.5 * IQR) | \n",
    "                  (df[\"CustomerLifetimeValue\"] > Q3 + 1.5 * IQR)]\n",
    "\n",
    "print(f\"Cantidad de outliers detectados por IQR: {outliers_iqr.shape[0]}\")\n"
   ]
  },
  {
   "cell_type": "markdown",
   "id": "207bd3e9",
   "metadata": {},
   "source": [
    "### 🧠 Ejercicio 4: Detección de Outliers con Z-score"
   ]
  },
  {
   "cell_type": "code",
   "execution_count": null,
   "id": "97d48381",
   "metadata": {},
   "outputs": [],
   "source": [
    "z_scores = zscore(df[\"ClaimAmount\"])\n",
    "outliers_z = df[np.abs(z_scores) > 3]\n",
    "\n",
    "print(f\"Cantidad de outliers detectados por Z-score: {outliers_z.shape[0]}\")\n"
   ]
  },
  {
   "cell_type": "markdown",
   "id": "ba04c089",
   "metadata": {},
   "source": [
    "### 📈 Ejercicio 5: Boxplot por cobertura"
   ]
  },
  {
   "cell_type": "code",
   "execution_count": null,
   "id": "8ba958b5",
   "metadata": {},
   "outputs": [],
   "source": [
    "sns.boxplot(x=\"Coverage\", y=\"ClaimAmount\", data=df)\n",
    "plt.title(\"Claim Amount según tipo de Coverage\")\n",
    "plt.show()\n"
   ]
  },
  {
   "cell_type": "markdown",
   "id": "51c3a7b0",
   "metadata": {},
   "source": [
    "### 🎻 Ejercicio 6: Violinplot por clase de vehículo"
   ]
  },
  {
   "cell_type": "code",
   "execution_count": null,
   "id": "ce3223ad",
   "metadata": {},
   "outputs": [],
   "source": [
    "sns.violinplot(x=\"VehicleClass\", y=\"CustomerLifetimeValue\", data=df)\n",
    "plt.xticks(rotation=45)\n",
    "plt.title(\"Customer Lifetime Value por tipo de vehículo\")\n",
    "plt.show()\n"
   ]
  },
  {
   "cell_type": "markdown",
   "id": "fb26b7de",
   "metadata": {},
   "source": [
    "### 🔀 Ejercicio 7: Asimetría"
   ]
  },
  {
   "cell_type": "code",
   "execution_count": null,
   "id": "ee115fe9",
   "metadata": {},
   "outputs": [],
   "source": [
    "skew_clv = skew(df[\"CustomerLifetimeValue\"].dropna())\n",
    "print(f\"Asimetría (CustomerLifetimeValue): {skew_clv}\")\n"
   ]
  },
  {
   "cell_type": "markdown",
   "id": "f32a7cee",
   "metadata": {},
   "source": [
    "### ⛰️ Ejercicio 8: Curtosis"
   ]
  },
  {
   "cell_type": "code",
   "execution_count": null,
   "id": "28672006",
   "metadata": {},
   "outputs": [],
   "source": [
    "kurt_clv = kurtosis(df[\"CustomerLifetimeValue\"].dropna())\n",
    "print(f\"Curtosis (CustomerLifetimeValue): {kurt_clv}\")\n"
   ]
  },
  {
   "cell_type": "markdown",
   "id": "a00fb13f",
   "metadata": {},
   "source": [
    "## 📝 Parte final: Actividades para resolver\n",
    "\n",
    "1. ¿Cuál es el tipo de distribución que presenta `ClaimAmount`?\n",
    "2. Identificá si hay outliers en `CustomerLifetimeValue` usando visualización.\n",
    "3. Usá el método del IQR para detectar outliers en `MonthlyPremiumAuto`.\n",
    "4. Usá el método del Z-score en `TotalClaimAmount` y reportá cuántos outliers hay.\n",
    "5. Compará `ClaimAmount` según `Education` con un boxplot.\n",
    "6. ¿Qué diferencias ves entre `VehicleSize` y `CustomerLifetimeValue`?\n",
    "7. Calculá y analizá la asimetría de `MonthlyPremiumAuto`.\n",
    "8. ¿Qué indica la curtosis de `TotalClaimAmount`?\n",
    "9. Usá un `pairplot` con variables numéricas del dataset.\n",
    "10. ¿Cómo puede afectar la presencia de outliers en un modelo predictivo?\n",
    "\n"
   ]
  }
 ],
 "metadata": {
  "kernelspec": {
   "display_name": "Python 3",
   "language": "python",
   "name": "python3"
  },
  "language_info": {
   "codemirror_mode": {
    "name": "ipython",
    "version": 3
   },
   "file_extension": ".py",
   "mimetype": "text/x-python",
   "name": "python",
   "nbconvert_exporter": "python",
   "pygments_lexer": "ipython3",
   "version": "3.11.9"
  }
 },
 "nbformat": 4,
 "nbformat_minor": 5
}
