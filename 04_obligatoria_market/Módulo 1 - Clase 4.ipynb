{
 "cells": [
  {
   "cell_type": "markdown",
   "id": "4c442ae4",
   "metadata": {},
   "source": [
    "# 📊 Análisis Numérico con NumPy aplicado a datos de ventas\n",
    "\n",
    "En este notebook vamos a aplicar **conceptos fundamentales de NumPy** para explorar un conjunto de datos de ventas de productos en distintas tiendas.\n",
    "\n",
    "El objetivo es practicar la manipulación de arrays, operaciones vectorizadas, filtrado, estadísticas básicas y álgebra lineal, usando datos reales.\n",
    "\n",
    "---\n",
    "\n",
    "## 📁 Descripción del dataset (`market.csv`)\n",
    "\n",
    "Este conjunto de datos contiene información sobre productos, tiendas y ventas. A continuación se describen las variables principales:\n",
    "\n",
    "| Variable | Descripción |\n",
    "|----------|-------------|\n",
    "| `Item_Identifier` | ID del producto |\n",
    "| `Item_Weight` | Peso del producto |\n",
    "| `Item_Fat_Content` | Contenido de grasa del producto (Low Fat / Regular) |\n",
    "| `Item_Visibility` | Porcentaje de visibilidad del producto en el total del área de exhibición |\n",
    "| `Item_Type` | Categoría del producto (Dairy, Soft Drinks, etc.) |\n",
    "| `Item_MRP` | Precio de venta al público máximo |\n",
    "| `Outlet_Identifier` | ID de la tienda |\n",
    "| `Outlet_Establishment_Year` | Año de apertura de la tienda |\n",
    "| `Outlet_Size` | Tamaño de la tienda |\n",
    "| `Outlet_Location_Type` | Tipo de ciudad donde se ubica la tienda |\n",
    "| `Outlet_Type` | Tipo de tienda |\n",
    "| `Item_Outlet_Sales` | Ventas del producto en esa tienda |\n",
    "\n",
    "---\n"
   ]
  },
  {
   "cell_type": "code",
   "execution_count": null,
   "id": "bf2e319c",
   "metadata": {},
   "outputs": [],
   "source": [
    "import numpy as np\n",
    "import pandas as pd\n",
    "\n",
    "# Cargar el dataset\n",
    "df = pd.read_csv(\"market.csv\")\n",
    "\n",
    "# Visualizar primeras filas\n",
    "df.head()"
   ]
  },
  {
   "cell_type": "markdown",
   "id": "2743e557",
   "metadata": {},
   "source": [
    "## 🔢 Conversión a arrays NumPy"
   ]
  },
  {
   "cell_type": "code",
   "execution_count": null,
   "id": "ae3b700a",
   "metadata": {},
   "outputs": [],
   "source": [
    "# Convertir columnas numéricas a arrays\n",
    "pesos = df[\"Item_Weight\"].to_numpy()\n",
    "ventas = df[\"Item_Outlet_Sales\"].to_numpy()\n",
    "precios = df[\"Item_MRP\"].to_numpy()\n",
    "visibilidad = df[\"Item_Visibility\"].to_numpy()\n",
    "\n",
    "# Mostrar dimensiones y tipos\n",
    "print(\"Pesos:\", pesos.shape, pesos.dtype)\n",
    "print(\"Ventas:\", ventas.shape, ventas.dtype)"
   ]
  },
  {
   "cell_type": "markdown",
   "id": "553cccab",
   "metadata": {},
   "source": [
    "## 📈 Estadísticas básicas con NumPy"
   ]
  },
  {
   "cell_type": "code",
   "execution_count": null,
   "id": "cfc9e0d5",
   "metadata": {},
   "outputs": [],
   "source": [
    "print(\"Peso promedio:\", np.nanmean(pesos))\n",
    "print(\"Desvío estándar de ventas:\", np.std(ventas))\n",
    "print(\"Precio máximo:\", np.max(precios))\n",
    "print(\"Visibilidad mínima:\", np.min(visibilidad))"
   ]
  },
  {
   "cell_type": "markdown",
   "id": "02c1da31",
   "metadata": {},
   "source": [
    "## 🔍 Filtrado de datos con condiciones"
   ]
  },
  {
   "cell_type": "code",
   "execution_count": null,
   "id": "d42c0620",
   "metadata": {},
   "outputs": [],
   "source": [
    "# Productos con peso mayor a 15 kg\n",
    "pesados = pesos[pesos > 15]\n",
    "print(\"Productos con peso > 15kg:\", pesados.shape[0])\n",
    "\n",
    "# Ventas mayores a la media\n",
    "media_ventas = np.mean(ventas)\n",
    "ventas_altas = ventas[ventas > media_ventas]\n",
    "print(\"Ventas por encima del promedio:\", ventas_altas.shape[0])"
   ]
  },
  {
   "cell_type": "markdown",
   "id": "13c352df",
   "metadata": {},
   "source": [
    "## ⚙️ Operaciones vectorizadas"
   ]
  },
  {
   "cell_type": "code",
   "execution_count": null,
   "id": "21350c35",
   "metadata": {},
   "outputs": [],
   "source": [
    "# Precio por kilo estimado\n",
    "precio_x_kg = precios / pesos\n",
    "print(\"Precio por kilo (primeros 5):\", precio_x_kg[:5])"
   ]
  },
  {
   "cell_type": "markdown",
   "id": "d5f88037",
   "metadata": {},
   "source": [
    "## ➕ Álgebra matricial con NumPy"
   ]
  },
  {
   "cell_type": "code",
   "execution_count": null,
   "id": "0386797b",
   "metadata": {},
   "outputs": [],
   "source": [
    "# Crear matriz de dos variables\n",
    "matriz = np.vstack((precios[:100], ventas[:100]))  # 2x100\n",
    "matriz_t = matriz.T  # 100x2\n",
    "\n",
    "# Producto matricial (covarianza básica)\n",
    "producto = matriz @ matriz_t  # 2x2\n",
    "producto"
   ]
  },
  {
   "cell_type": "markdown",
   "id": "f89a68e0",
   "metadata": {},
   "source": [
    "## 🧠 Desafíos propuestos\n",
    "\n",
    "1. Calcular la mediana del peso de los productos usando NumPy.\n",
    "2. ¿Cuál es el valor más frecuente (moda) de `Item_Weight`?\n",
    "3. Filtrar los productos que tengan un precio mayor a $250 y visibilidad menor al 0.02.\n",
    "4. Crear un array que contenga la diferencia entre el precio y las ventas para los primeros 500 productos.\n",
    "5. Normalizar los valores de visibilidad entre 0 y 1.\n",
    "6. Crear una matriz de 3 columnas: peso, precio y ventas, y calcular su media por columna.\n",
    "7. ¿Qué productos tienen un valor de peso faltante (`NaN`)? ¿Cuántos hay?\n",
    "8. Simular 100 precios aleatorios con `np.random.normal()` con media 200 y desvío 30.\n",
    "9. Calcular la correlación entre precios y ventas (usando `np.corrcoef`).\n",
    "10. Guardar un nuevo array con los precios redondeados a 2 decimales.\n",
    "\n",
    "💡 Tip: ¡Usá funciones como `np.isnan`, `np.round`, `np.corrcoef`, `np.nanmean`, `np.unique`!\n"
   ]
  }
 ],
 "metadata": {},
 "nbformat": 4,
 "nbformat_minor": 5
}
