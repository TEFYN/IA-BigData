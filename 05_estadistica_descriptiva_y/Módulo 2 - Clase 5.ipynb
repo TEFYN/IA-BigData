{
 "cells": [
  {
   "cell_type": "markdown",
   "id": "f211931c",
   "metadata": {},
   "source": [
    "## 📘 Análisis Estadístico Descriptivo de Autos Usados en India\n",
    "\n",
    "### 📌 Contexto\n",
    "\n",
    "El dataset utilizado proviene del portal **CarDekho**, una plataforma india de venta de autos nuevos y usados. Contiene información de miles de autos listados en India con variables como:\n",
    "\n",
    "* Marca del auto\n",
    "* Año de fabricación\n",
    "* Precio de venta\n",
    "* Tipo de combustible\n",
    "* Número de propietarios\n",
    "* Transmisión\n",
    "* Kilometraje recorrido\n",
    "\n",
    "El objetivo de esta notebook es aplicar técnicas de estadística descriptiva y visualización de datos para entender mejor la distribución de precios, el estado general de los autos y sus características clave."
   ]
  },
  {
   "cell_type": "markdown",
   "id": "f94cf294",
   "metadata": {},
   "source": [
    "### 🔧 1. Carga de librerías y datos"
   ]
  },
  {
   "cell_type": "code",
   "execution_count": null,
   "id": "c0796633",
   "metadata": {},
   "outputs": [],
   "source": [
    "import pandas as pd\n",
    "import numpy as np\n",
    "import matplotlib.pyplot as plt\n",
    "import seaborn as sns\n",
    "\n",
    "# Configuración estética\n",
    "plt.style.use('ggplot')\n",
    "sns.set(font_scale=1.1)\n",
    "\n",
    "# Cargar el dataset\n",
    "df = pd.read_csv(\"CAR DETAILS FROM CAR DEKHO.csv\")\n",
    "\n",
    "# Mostrar las primeras filas\n",
    "df.head()\n"
   ]
  },
  {
   "cell_type": "markdown",
   "id": "81900ebc",
   "metadata": {},
   "source": [
    "### 🔍 2. Exploración inicial del dataset"
   ]
  },
  {
   "cell_type": "code",
   "execution_count": null,
   "id": "0b8ac019",
   "metadata": {},
   "outputs": [],
   "source": [
    "# Dimensiones\n",
    "print(\"Filas y columnas:\", df.shape)\n",
    "\n",
    "# Nombres de columnas\n",
    "print(\"Columnas:\", df.columns)\n",
    "\n",
    "# Tipos de datos\n",
    "df.info()\n",
    "\n",
    "# Estadísticas básicas\n",
    "df.describe()\n"
   ]
  },
  {
   "cell_type": "markdown",
   "id": "bfab053a",
   "metadata": {},
   "source": [
    "### 📊 3. Medidas de tendencia central\n",
    "\n",
    "Vamos a calcular la media, mediana y moda del precio de venta (selling_price) y los kilómetros recorridos (km_driven)."
   ]
  },
  {
   "cell_type": "code",
   "execution_count": null,
   "id": "b36d3d6d",
   "metadata": {},
   "outputs": [],
   "source": [
    "# Precio de venta\n",
    "print(\"Media precio:\", df['selling_price'].mean())\n",
    "print(\"Mediana precio:\", df['selling_price'].median())\n",
    "print(\"Moda precio:\", df['selling_price'].mode()[0])\n",
    "\n",
    "# Kilometraje\n",
    "print(\"Media km:\", df['km_driven'].mean())\n",
    "print(\"Mediana km:\", df['km_driven'].median())\n",
    "print(\"Moda km:\", df['km_driven'].mode()[0])\n"
   ]
  },
  {
   "cell_type": "markdown",
   "id": "77e48cdb",
   "metadata": {},
   "source": [
    "### 📈 4. Medidas de dispersión\n",
    "Calculamos el rango, la varianza y la desviación estándar."
   ]
  },
  {
   "cell_type": "code",
   "execution_count": null,
   "id": "100b6f0e",
   "metadata": {},
   "outputs": [],
   "source": [
    "# Rango\n",
    "print(\"Rango precio:\", df['selling_price'].max() - df['selling_price'].min())\n",
    "\n",
    "# Varianza y desviación estándar\n",
    "print(\"Varianza precio:\", df['selling_price'].var())\n",
    "print(\"Desviación estándar precio:\", df['selling_price'].std())\n",
    "\n",
    "print(\"Varianza km:\", df['km_driven'].var())\n",
    "print(\"Desviación estándar km:\", df['km_driven'].std())\n"
   ]
  },
  {
   "cell_type": "markdown",
   "id": "f6d690e4",
   "metadata": {},
   "source": [
    "### 📉 5. Visualización de variables numéricas"
   ]
  },
  {
   "cell_type": "code",
   "execution_count": null,
   "id": "c4294862",
   "metadata": {},
   "outputs": [],
   "source": [
    "# Histograma de precios\n",
    "plt.figure(figsize=(8,5))\n",
    "sns.histplot(df['selling_price'], bins=30, kde=True)\n",
    "plt.title('Distribución del Precio de Venta')\n",
    "plt.xlabel('Precio (INR)')\n",
    "plt.ylabel('Cantidad de autos')\n",
    "plt.show()\n",
    "\n",
    "# Boxplot para detectar outliers\n",
    "plt.figure(figsize=(8,5))\n",
    "sns.boxplot(x=df['selling_price'])\n",
    "plt.title('Boxplot del Precio de Venta')\n",
    "plt.show()\n",
    "\n",
    "# Histograma del kilometraje\n",
    "plt.figure(figsize=(8,5))\n",
    "sns.histplot(df['km_driven'], bins=30, kde=True)\n",
    "plt.title('Distribución del Kilometraje')\n",
    "plt.xlabel('Km recorridos')\n",
    "plt.show()\n"
   ]
  },
  {
   "cell_type": "markdown",
   "id": "edd7668e",
   "metadata": {},
   "source": [
    "### 🔗 6. Relación entre variables"
   ]
  },
  {
   "cell_type": "code",
   "execution_count": null,
   "id": "d03f657a",
   "metadata": {},
   "outputs": [],
   "source": [
    "# Precio vs Año\n",
    "plt.figure(figsize=(8,6))\n",
    "sns.scatterplot(data=df, x='year', y='selling_price', hue='fuel')\n",
    "plt.title('Precio vs Año del Vehículo')\n",
    "plt.show()\n",
    "\n",
    "# Correlación numérica\n",
    "df[['selling_price', 'year', 'km_driven']].corr()\n"
   ]
  },
  {
   "cell_type": "markdown",
   "id": "533960f5",
   "metadata": {},
   "source": [
    "## ✅ Actividades Prácticas\n",
    "\n",
    "1. ¿Cuál es el promedio de autos listados por año? Graficá la cantidad de autos por año.\n",
    "2. Calculá la media, mediana y moda del `year` (año del vehículo).\n",
    "3. Realizá un boxplot del kilometraje recorrido (`km_driven`) para detectar outliers.\n",
    "4. Calculá el rango, varianza y desviación estándar del `year`.\n",
    "5. Hacé un histograma del `selling_price` para autos que usan combustible \"Diesel\".\n",
    "6. Graficá la distribución de autos por tipo de transmisión (`manual` vs `automatic`).\n",
    "7. ¿Cuál es la relación entre el tipo de combustible (`fuel`) y el precio promedio de venta?\n",
    "8. Usando un `groupby`, obtené el precio medio por año de fabricación.\n",
    "9. Mostrá en un gráfico de barras cuántos autos pertenecen a cada número de dueños (`owner`).\n",
    "10. Calculá las medidas de dispersión para el precio de autos automáticos únicamente."
   ]
  }
 ],
 "metadata": {
  "kernelspec": {
   "display_name": "Python 3",
   "language": "python",
   "name": "python3"
  },
  "language_info": {
   "name": "python",
   "version": "3.11.9"
  }
 },
 "nbformat": 4,
 "nbformat_minor": 5
}
